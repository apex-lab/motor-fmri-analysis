{
 "cells": [
  {
   "cell_type": "code",
   "execution_count": 1,
   "id": "f4e0a66b-11ba-434b-81e4-95a78d2ec3e0",
   "metadata": {},
   "outputs": [],
   "source": [
    "from matplotlib import pyplot as plt\n",
    "import seaborn as sns\n",
    "import numpy as np\n",
    "import pandas as pd\n",
    "import statsmodels.formula.api as smf\n",
    "import statsmodels.api as sm\n",
    "\n",
    "from bids import BIDSLayout"
   ]
  },
  {
   "cell_type": "code",
   "execution_count": 2,
   "id": "3472cb4c-a288-4e99-beb2-b4eefb17d50b",
   "metadata": {},
   "outputs": [
    {
     "name": "stdout",
     "output_type": "stream",
     "text": [
      "['01', 'dd', 'gg']\n"
     ]
    }
   ],
   "source": [
    "layout = BIDSLayout('bids_temp', derivatives = True)\n",
    "subjects = layout.get_subjects(scope = 'decoding')\n",
    "print(subjects)"
   ]
  },
  {
   "cell_type": "code",
   "execution_count": 3,
   "id": "215c3932-d48c-449c-a801-f9692f9e9983",
   "metadata": {},
   "outputs": [
    {
     "name": "stdout",
     "output_type": "stream",
     "text": [
      "                               GEE Regression Results                              \n",
      "===================================================================================\n",
      "Dep. Variable:                           y   No. Observations:                  877\n",
      "Model:                                 GEE   No. clusters:                        9\n",
      "Method:                        Generalized   Min. cluster size:                  55\n",
      "                      Estimating Equations   Max. cluster size:                 112\n",
      "Family:                           Binomial   Mean cluster size:                97.4\n",
      "Dependence structure:         Exchangeable   Num. iterations:                    27\n",
      "Date:                     Mon, 03 Jun 2024   Scale:                           1.000\n",
      "Covariance type:                    robust   Time:                         17:09:52\n",
      "==============================================================================\n",
      "                 coef    std err          z      P>|z|      [0.025      0.975]\n",
      "------------------------------------------------------------------------------\n",
      "Intercept     -2.8166      0.968     -2.910      0.004      -4.714      -0.919\n",
      "latency       16.2625      6.208      2.620      0.009       4.095      28.430\n",
      "theory         0.0582      0.024      2.457      0.014       0.012       0.105\n",
      "==============================================================================\n",
      "Skew:                          0.0382   Kurtosis:                      -1.7421\n",
      "Centered skew:                 0.0455   Centered kurtosis:             -1.8098\n",
      "==============================================================================\n",
      "\n",
      "Longform p-values:\n",
      "\n",
      "Intercept    0.003617\n",
      "latency      0.008802\n",
      "theory       0.014018\n",
      "dtype: float64\n"
     ]
    }
   ],
   "source": [
    "def print_gee(sub):\n",
    "    df = layout.get(subject = sub, desc = 'predictions', suffix = 'logodds')[0].get_df()\n",
    "    mod = smf.gee(\n",
    "        'y ~ latency + theory', \n",
    "        groups = df.run, # random effect of run\n",
    "        cov_struct = sm.cov_struct.Exchangeable(), \n",
    "        family = sm.families.Binomial(),\n",
    "        data = df\n",
    "    )\n",
    "    optim_params = dict(maxiter = 100, first_dep_update = 20, params_niter = 10)\n",
    "    res = mod.fit(cov_type = 'robust', **optim_params) \n",
    "    print(res.summary())\n",
    "    print('\\nLongform p-values:\\n')\n",
    "    print(res.pvalues)\n",
    "\n",
    "print_gee('01')"
   ]
  },
  {
   "cell_type": "code",
   "execution_count": 4,
   "id": "9ccdb891-6fbf-4e3b-ab63-8a31d335cf60",
   "metadata": {},
   "outputs": [
    {
     "name": "stdout",
     "output_type": "stream",
     "text": [
      "                               GEE Regression Results                              \n",
      "===================================================================================\n",
      "Dep. Variable:                           y   No. Observations:                  853\n",
      "Model:                                 GEE   No. clusters:                        9\n",
      "Method:                        Generalized   Min. cluster size:                  71\n",
      "                      Estimating Equations   Max. cluster size:                 110\n",
      "Family:                           Binomial   Mean cluster size:                94.8\n",
      "Dependence structure:         Exchangeable   Num. iterations:                    26\n",
      "Date:                     Mon, 03 Jun 2024   Scale:                           1.000\n",
      "Covariance type:                    robust   Time:                         17:09:52\n",
      "==============================================================================\n",
      "                 coef    std err          z      P>|z|      [0.025      0.975]\n",
      "------------------------------------------------------------------------------\n",
      "Intercept     -0.2995      0.203     -1.473      0.141      -0.698       0.099\n",
      "latency        0.1304      1.659      0.079      0.937      -3.122       3.383\n",
      "theory         0.0656      0.067      0.973      0.331      -0.067       0.198\n",
      "==============================================================================\n",
      "Skew:                          0.2860   Kurtosis:                      -1.9147\n",
      "Centered skew:                 0.2659   Centered kurtosis:             -1.6394\n",
      "==============================================================================\n",
      "\n",
      "Longform p-values:\n",
      "\n",
      "Intercept    0.140767\n",
      "latency      0.937370\n",
      "theory       0.330641\n",
      "dtype: float64\n"
     ]
    }
   ],
   "source": [
    "print_gee('dd')"
   ]
  },
  {
   "cell_type": "code",
   "execution_count": 5,
   "id": "03212f8d-8519-4fd4-b010-b51602674f67",
   "metadata": {},
   "outputs": [
    {
     "name": "stdout",
     "output_type": "stream",
     "text": [
      "                               GEE Regression Results                              \n",
      "===================================================================================\n",
      "Dep. Variable:                           y   No. Observations:                  926\n",
      "Model:                                 GEE   No. clusters:                        9\n",
      "Method:                        Generalized   Min. cluster size:                  71\n",
      "                      Estimating Equations   Max. cluster size:                 113\n",
      "Family:                           Binomial   Mean cluster size:               102.9\n",
      "Dependence structure:         Exchangeable   Num. iterations:                    26\n",
      "Date:                     Mon, 03 Jun 2024   Scale:                           1.000\n",
      "Covariance type:                    robust   Time:                         17:09:52\n",
      "==============================================================================\n",
      "                 coef    std err          z      P>|z|      [0.025      0.975]\n",
      "------------------------------------------------------------------------------\n",
      "Intercept      0.5248      0.276      1.904      0.057      -0.016       1.065\n",
      "latency       -4.3945      1.712     -2.566      0.010      -7.751      -1.038\n",
      "theory         0.4644      0.146      3.178      0.001       0.178       0.751\n",
      "==============================================================================\n",
      "Skew:                         -0.3411   Kurtosis:                      -1.7067\n",
      "Centered skew:                -0.3096   Centered kurtosis:             -1.5495\n",
      "==============================================================================\n",
      "\n",
      "Longform p-values:\n",
      "\n",
      "Intercept    0.056960\n",
      "latency      0.010276\n",
      "theory       0.001481\n",
      "dtype: float64\n"
     ]
    }
   ],
   "source": [
    "print_gee('gg')"
   ]
  },
  {
   "cell_type": "code",
   "execution_count": null,
   "id": "971d93b9-0333-4aae-b4d0-36fe79a57462",
   "metadata": {},
   "outputs": [],
   "source": []
  }
 ],
 "metadata": {
  "kernelspec": {
   "display_name": "Python 3 (ipykernel)",
   "language": "python",
   "name": "python3"
  },
  "language_info": {
   "codemirror_mode": {
    "name": "ipython",
    "version": 3
   },
   "file_extension": ".py",
   "mimetype": "text/x-python",
   "name": "python",
   "nbconvert_exporter": "python",
   "pygments_lexer": "ipython3",
   "version": "3.8.18"
  }
 },
 "nbformat": 4,
 "nbformat_minor": 5
}
